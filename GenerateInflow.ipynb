{
 "cells": [
  {
   "cell_type": "markdown",
   "id": "4b2c1bf6",
   "metadata": {},
   "source": [
    "The following script is to generate InflowPlane.dat file for the older version of the GenerateInflow.c code."
   ]
  },
  {
   "cell_type": "code",
   "execution_count": 3,
   "id": "0fa6d89e",
   "metadata": {},
   "outputs": [],
   "source": [
    "# Generate a 2D inflow plane in Tecplot ASCII format\n",
    "Nx_LES = 113   # Points in x-direction\n",
    "Ny_LES = 113   # Points in y-direction\n",
    "Lx = 1.0       # Domain length in x-spanwise\n",
    "Ly = 1.0       # Domain length in y-vertical\n",
    "\n",
    "with open(\"InflowPlane.dat\", \"w\") as f:\n",
    "    # Write header lines\n",
    "    for i in range(10):\n",
    "        f.write(f\"# Header line {i+1}\\n\")\n",
    "    \n",
    "    # Write grid data (2D plane with Z=0)\n",
    "    for j in range(Ny_LES):\n",
    "        for i in range(Nx_LES):\n",
    "            x = (i / (Nx_LES - 1)) * Lx\n",
    "            y = (j / (Ny_LES - 1)) * Ly\n",
    "            z = 0.0\n",
    "            nvert = 0.0  # Example value (1=inside domain)\n",
    "            f.write(f\"{x} {y} {z} {nvert}\\n\")"
   ]
  },
  {
   "cell_type": "markdown",
   "id": "e15647db",
   "metadata": {},
   "source": [
    "The following script is to generate xyz file for the new code's inflow."
   ]
  },
  {
   "cell_type": "code",
   "execution_count": 1,
   "id": "be95b4bc",
   "metadata": {},
   "outputs": [],
   "source": [
    "Nx = 397  # Total grid points in x\n",
    "Ny = 397  # Total grid points in y\n",
    "Lx = 2.2  # Domain length in x\n",
    "Ly = 2.2  # Domain length in y\n",
    "\n",
    "with open(\"xyz.dat\", \"w\") as f:\n",
    "    # First line - update this too if you want 395 points\n",
    "    f.write(f\"{Nx} {Ny} 0\\n\")\n",
    "\n",
    "    # X-coordinates (Nx values = 395 points)\n",
    "    for i in range(Nx):\n",
    "        x = i * Lx / (Nx-1)\n",
    "        f.write(f\"{x} 0.0 0.0\\n\")\n",
    "\n",
    "    # Y-coordinates (Ny values = 395 points)\n",
    "    for j in range(Ny):\n",
    "        y = j * Ly / (Ny-1)\n",
    "        f.write(f\"0.0 {y} 0.0\\n\")"
   ]
  }
 ],
 "metadata": {
  "kernelspec": {
   "display_name": "base",
   "language": "python",
   "name": "python3"
  },
  "language_info": {
   "codemirror_mode": {
    "name": "ipython",
    "version": 3
   },
   "file_extension": ".py",
   "mimetype": "text/x-python",
   "name": "python",
   "nbconvert_exporter": "python",
   "pygments_lexer": "ipython3",
   "version": "3.11.5"
  }
 },
 "nbformat": 4,
 "nbformat_minor": 5
}
